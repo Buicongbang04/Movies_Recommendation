{
 "cells": [
  {
   "cell_type": "markdown",
   "metadata": {},
   "source": [
    "\n",
    "<h2>2. Movie Recommendation System with SVD:</h2>\n",
    "<ul>\n",
    "<li>Build a movie recommendation system using collaborative filtering with SVD.</li>\n",
    "<li>Apply SVD to factorize the user-item matrix and generate personalized movie recommendations based on a user's preferences.</li>\n",
    "</ul>"
   ]
  },
  {
   "cell_type": "markdown",
   "metadata": {},
   "source": [
    "<h3>Data processing</h3>"
   ]
  },
  {
   "cell_type": "code",
   "execution_count": 143,
   "metadata": {},
   "outputs": [],
   "source": [
    "import numpy as np\n",
    "import pandas as pd\n",
    "import matplotlib.pyplot as plt\n",
    "import os"
   ]
  },
  {
   "cell_type": "code",
   "execution_count": 144,
   "metadata": {},
   "outputs": [
    {
     "name": "stderr",
     "output_type": "stream",
     "text": [
      "C:\\Users\\Admin\\AppData\\Local\\Temp\\ipykernel_3232\\1979537588.py:1: DtypeWarning: Columns (10) have mixed types. Specify dtype option on import or set low_memory=False.\n",
      "  movies = pd.read_csv(\"data\\\\movies_metadata.csv\")\n"
     ]
    }
   ],
   "source": [
    "movies = pd.read_csv(\"data\\\\movies_metadata.csv\")"
   ]
  },
  {
   "cell_type": "code",
   "execution_count": 145,
   "metadata": {},
   "outputs": [
    {
     "data": {
      "text/html": [
       "<div>\n",
       "<style scoped>\n",
       "    .dataframe tbody tr th:only-of-type {\n",
       "        vertical-align: middle;\n",
       "    }\n",
       "\n",
       "    .dataframe tbody tr th {\n",
       "        vertical-align: top;\n",
       "    }\n",
       "\n",
       "    .dataframe thead th {\n",
       "        text-align: right;\n",
       "    }\n",
       "</style>\n",
       "<table border=\"1\" class=\"dataframe\">\n",
       "  <thead>\n",
       "    <tr style=\"text-align: right;\">\n",
       "      <th></th>\n",
       "      <th>adult</th>\n",
       "      <th>belongs_to_collection</th>\n",
       "      <th>budget</th>\n",
       "      <th>genres</th>\n",
       "      <th>homepage</th>\n",
       "      <th>id</th>\n",
       "      <th>imdb_id</th>\n",
       "      <th>original_language</th>\n",
       "      <th>original_title</th>\n",
       "      <th>overview</th>\n",
       "      <th>...</th>\n",
       "      <th>release_date</th>\n",
       "      <th>revenue</th>\n",
       "      <th>runtime</th>\n",
       "      <th>spoken_languages</th>\n",
       "      <th>status</th>\n",
       "      <th>tagline</th>\n",
       "      <th>title</th>\n",
       "      <th>video</th>\n",
       "      <th>vote_average</th>\n",
       "      <th>vote_count</th>\n",
       "    </tr>\n",
       "  </thead>\n",
       "  <tbody>\n",
       "    <tr>\n",
       "      <th>11430</th>\n",
       "      <td>False</td>\n",
       "      <td>NaN</td>\n",
       "      <td>0</td>\n",
       "      <td>[{'id': 35, 'name': 'Comedy'}]</td>\n",
       "      <td>NaN</td>\n",
       "      <td>76211</td>\n",
       "      <td>tt0040795</td>\n",
       "      <td>en</td>\n",
       "      <td>Sitting Pretty</td>\n",
       "      <td>Tacey and Harry King are a suburban couple wit...</td>\n",
       "      <td>...</td>\n",
       "      <td>1948-01-01</td>\n",
       "      <td>0.0</td>\n",
       "      <td>83.0</td>\n",
       "      <td>[{'iso_639_1': 'en', 'name': 'English'}]</td>\n",
       "      <td>Released</td>\n",
       "      <td>Never was a baby-sitter like this!</td>\n",
       "      <td>Sitting Pretty</td>\n",
       "      <td>False</td>\n",
       "      <td>6.1</td>\n",
       "      <td>13.0</td>\n",
       "    </tr>\n",
       "    <tr>\n",
       "      <th>15285</th>\n",
       "      <td>False</td>\n",
       "      <td>NaN</td>\n",
       "      <td>0</td>\n",
       "      <td>[{'id': 18, 'name': 'Drama'}, {'id': 10769, 'n...</td>\n",
       "      <td>NaN</td>\n",
       "      <td>22241</td>\n",
       "      <td>tt1263679</td>\n",
       "      <td>en</td>\n",
       "      <td>Firaaq</td>\n",
       "      <td>Firaaq is an Urdu word that means both separat...</td>\n",
       "      <td>...</td>\n",
       "      <td>2009-01-01</td>\n",
       "      <td>0.0</td>\n",
       "      <td>0.0</td>\n",
       "      <td>[{'iso_639_1': 'hi', 'name': 'हिन्दी'}]</td>\n",
       "      <td>Released</td>\n",
       "      <td>NaN</td>\n",
       "      <td>Firaaq</td>\n",
       "      <td>False</td>\n",
       "      <td>5.0</td>\n",
       "      <td>1.0</td>\n",
       "    </tr>\n",
       "    <tr>\n",
       "      <th>21645</th>\n",
       "      <td>False</td>\n",
       "      <td>NaN</td>\n",
       "      <td>0</td>\n",
       "      <td>[{'id': 18, 'name': 'Drama'}, {'id': 878, 'nam...</td>\n",
       "      <td>NaN</td>\n",
       "      <td>219288</td>\n",
       "      <td>tt1772262</td>\n",
       "      <td>en</td>\n",
       "      <td>Dragon Day</td>\n",
       "      <td>When Duke Evans, out of work NSA analyst, is e...</td>\n",
       "      <td>...</td>\n",
       "      <td>2013-01-10</td>\n",
       "      <td>0.0</td>\n",
       "      <td>96.0</td>\n",
       "      <td>[{'iso_639_1': 'en', 'name': 'English'}]</td>\n",
       "      <td>Released</td>\n",
       "      <td>The hack is the attack.</td>\n",
       "      <td>Dragon Day</td>\n",
       "      <td>False</td>\n",
       "      <td>3.2</td>\n",
       "      <td>5.0</td>\n",
       "    </tr>\n",
       "    <tr>\n",
       "      <th>21339</th>\n",
       "      <td>False</td>\n",
       "      <td>NaN</td>\n",
       "      <td>0</td>\n",
       "      <td>[{'id': 80, 'name': 'Crime'}, {'id': 18, 'name...</td>\n",
       "      <td>NaN</td>\n",
       "      <td>125164</td>\n",
       "      <td>tt1999243</td>\n",
       "      <td>pt</td>\n",
       "      <td>Rafa</td>\n",
       "      <td>Rafa is a 13 years old kid concerned with his ...</td>\n",
       "      <td>...</td>\n",
       "      <td>2012-05-10</td>\n",
       "      <td>0.0</td>\n",
       "      <td>25.0</td>\n",
       "      <td>[{'iso_639_1': 'pt', 'name': 'Português'}]</td>\n",
       "      <td>Released</td>\n",
       "      <td>NaN</td>\n",
       "      <td>Rafa</td>\n",
       "      <td>False</td>\n",
       "      <td>6.6</td>\n",
       "      <td>5.0</td>\n",
       "    </tr>\n",
       "    <tr>\n",
       "      <th>17291</th>\n",
       "      <td>False</td>\n",
       "      <td>NaN</td>\n",
       "      <td>0</td>\n",
       "      <td>[{'id': 18, 'name': 'Drama'}, {'id': 10752, 'n...</td>\n",
       "      <td>NaN</td>\n",
       "      <td>94241</td>\n",
       "      <td>tt0034242</td>\n",
       "      <td>en</td>\n",
       "      <td>Sundown</td>\n",
       "      <td>Englishmen fighting Nazis in Africa discover a...</td>\n",
       "      <td>...</td>\n",
       "      <td>1941-10-31</td>\n",
       "      <td>0.0</td>\n",
       "      <td>90.0</td>\n",
       "      <td>[{'iso_639_1': 'en', 'name': 'English'}]</td>\n",
       "      <td>Released</td>\n",
       "      <td>She was too dangerous to love!</td>\n",
       "      <td>Sundown</td>\n",
       "      <td>False</td>\n",
       "      <td>4.8</td>\n",
       "      <td>2.0</td>\n",
       "    </tr>\n",
       "  </tbody>\n",
       "</table>\n",
       "<p>5 rows × 24 columns</p>\n",
       "</div>"
      ],
      "text/plain": [
       "       adult belongs_to_collection budget  \\\n",
       "11430  False                   NaN      0   \n",
       "15285  False                   NaN      0   \n",
       "21645  False                   NaN      0   \n",
       "21339  False                   NaN      0   \n",
       "17291  False                   NaN      0   \n",
       "\n",
       "                                                  genres homepage      id  \\\n",
       "11430                     [{'id': 35, 'name': 'Comedy'}]      NaN   76211   \n",
       "15285  [{'id': 18, 'name': 'Drama'}, {'id': 10769, 'n...      NaN   22241   \n",
       "21645  [{'id': 18, 'name': 'Drama'}, {'id': 878, 'nam...      NaN  219288   \n",
       "21339  [{'id': 80, 'name': 'Crime'}, {'id': 18, 'name...      NaN  125164   \n",
       "17291  [{'id': 18, 'name': 'Drama'}, {'id': 10752, 'n...      NaN   94241   \n",
       "\n",
       "         imdb_id original_language  original_title  \\\n",
       "11430  tt0040795                en  Sitting Pretty   \n",
       "15285  tt1263679                en          Firaaq   \n",
       "21645  tt1772262                en      Dragon Day   \n",
       "21339  tt1999243                pt            Rafa   \n",
       "17291  tt0034242                en         Sundown   \n",
       "\n",
       "                                                overview  ... release_date  \\\n",
       "11430  Tacey and Harry King are a suburban couple wit...  ...   1948-01-01   \n",
       "15285  Firaaq is an Urdu word that means both separat...  ...   2009-01-01   \n",
       "21645  When Duke Evans, out of work NSA analyst, is e...  ...   2013-01-10   \n",
       "21339  Rafa is a 13 years old kid concerned with his ...  ...   2012-05-10   \n",
       "17291  Englishmen fighting Nazis in Africa discover a...  ...   1941-10-31   \n",
       "\n",
       "      revenue runtime                            spoken_languages    status  \\\n",
       "11430     0.0    83.0    [{'iso_639_1': 'en', 'name': 'English'}]  Released   \n",
       "15285     0.0     0.0     [{'iso_639_1': 'hi', 'name': 'हिन्दी'}]  Released   \n",
       "21645     0.0    96.0    [{'iso_639_1': 'en', 'name': 'English'}]  Released   \n",
       "21339     0.0    25.0  [{'iso_639_1': 'pt', 'name': 'Português'}]  Released   \n",
       "17291     0.0    90.0    [{'iso_639_1': 'en', 'name': 'English'}]  Released   \n",
       "\n",
       "                                  tagline           title  video vote_average  \\\n",
       "11430  Never was a baby-sitter like this!  Sitting Pretty  False          6.1   \n",
       "15285                                 NaN          Firaaq  False          5.0   \n",
       "21645             The hack is the attack.      Dragon Day  False          3.2   \n",
       "21339                                 NaN            Rafa  False          6.6   \n",
       "17291      She was too dangerous to love!         Sundown  False          4.8   \n",
       "\n",
       "      vote_count  \n",
       "11430       13.0  \n",
       "15285        1.0  \n",
       "21645        5.0  \n",
       "21339        5.0  \n",
       "17291        2.0  \n",
       "\n",
       "[5 rows x 24 columns]"
      ]
     },
     "execution_count": 145,
     "metadata": {},
     "output_type": "execute_result"
    }
   ],
   "source": [
    "movies.sample(5)"
   ]
  },
  {
   "cell_type": "code",
   "execution_count": 146,
   "metadata": {},
   "outputs": [
    {
     "data": {
      "text/plain": [
       "(45466, 24)"
      ]
     },
     "execution_count": 146,
     "metadata": {},
     "output_type": "execute_result"
    }
   ],
   "source": [
    "movies.shape"
   ]
  },
  {
   "cell_type": "code",
   "execution_count": 147,
   "metadata": {},
   "outputs": [
    {
     "name": "stdout",
     "output_type": "stream",
     "text": [
      "<class 'pandas.core.frame.DataFrame'>\n",
      "RangeIndex: 45466 entries, 0 to 45465\n",
      "Data columns (total 24 columns):\n",
      " #   Column                 Non-Null Count  Dtype  \n",
      "---  ------                 --------------  -----  \n",
      " 0   adult                  45466 non-null  object \n",
      " 1   belongs_to_collection  4494 non-null   object \n",
      " 2   budget                 45466 non-null  object \n",
      " 3   genres                 45466 non-null  object \n",
      " 4   homepage               7782 non-null   object \n",
      " 5   id                     45466 non-null  object \n",
      " 6   imdb_id                45449 non-null  object \n",
      " 7   original_language      45455 non-null  object \n",
      " 8   original_title         45466 non-null  object \n",
      " 9   overview               44512 non-null  object \n",
      " 10  popularity             45461 non-null  object \n",
      " 11  poster_path            45080 non-null  object \n",
      " 12  production_companies   45463 non-null  object \n",
      " 13  production_countries   45463 non-null  object \n",
      " 14  release_date           45379 non-null  object \n",
      " 15  revenue                45460 non-null  float64\n",
      " 16  runtime                45203 non-null  float64\n",
      " 17  spoken_languages       45460 non-null  object \n",
      " 18  status                 45379 non-null  object \n",
      " 19  tagline                20412 non-null  object \n",
      " 20  title                  45460 non-null  object \n",
      " 21  video                  45460 non-null  object \n",
      " 22  vote_average           45460 non-null  float64\n",
      " 23  vote_count             45460 non-null  float64\n",
      "dtypes: float64(4), object(20)\n",
      "memory usage: 8.3+ MB\n"
     ]
    }
   ],
   "source": [
    "movies.info()"
   ]
  },
  {
   "cell_type": "markdown",
   "metadata": {},
   "source": [
    "<h4>Handle missing data</h4>"
   ]
  },
  {
   "cell_type": "code",
   "execution_count": 148,
   "metadata": {},
   "outputs": [
    {
     "data": {
      "text/plain": [
       "adult                        0\n",
       "belongs_to_collection    40972\n",
       "budget                       0\n",
       "genres                       0\n",
       "homepage                 37684\n",
       "id                           0\n",
       "imdb_id                     17\n",
       "original_language           11\n",
       "original_title               0\n",
       "overview                   954\n",
       "popularity                   5\n",
       "poster_path                386\n",
       "production_companies         3\n",
       "production_countries         3\n",
       "release_date                87\n",
       "revenue                      6\n",
       "runtime                    263\n",
       "spoken_languages             6\n",
       "status                      87\n",
       "tagline                  25054\n",
       "title                        6\n",
       "video                        6\n",
       "vote_average                 6\n",
       "vote_count                   6\n",
       "dtype: int64"
      ]
     },
     "execution_count": 148,
     "metadata": {},
     "output_type": "execute_result"
    }
   ],
   "source": [
    "movies.isna().sum()"
   ]
  },
  {
   "cell_type": "code",
   "execution_count": 149,
   "metadata": {},
   "outputs": [],
   "source": [
    "movies.loc[movies['title'].isna(), 'title'] = movies.loc[movies['title'].isna()]['original_title']"
   ]
  },
  {
   "cell_type": "code",
   "execution_count": 150,
   "metadata": {},
   "outputs": [],
   "source": [
    "movies.loc[movies['vote_average'].isna(), 'vote_average'] = 0"
   ]
  },
  {
   "cell_type": "code",
   "execution_count": 151,
   "metadata": {},
   "outputs": [],
   "source": [
    "movies.loc[movies['vote_count'].isna(), 'vote_count'] = 0"
   ]
  },
  {
   "cell_type": "code",
   "execution_count": 152,
   "metadata": {},
   "outputs": [
    {
     "data": {
      "text/html": [
       "<div>\n",
       "<style scoped>\n",
       "    .dataframe tbody tr th:only-of-type {\n",
       "        vertical-align: middle;\n",
       "    }\n",
       "\n",
       "    .dataframe tbody tr th {\n",
       "        vertical-align: top;\n",
       "    }\n",
       "\n",
       "    .dataframe thead th {\n",
       "        text-align: right;\n",
       "    }\n",
       "</style>\n",
       "<table border=\"1\" class=\"dataframe\">\n",
       "  <thead>\n",
       "    <tr style=\"text-align: right;\">\n",
       "      <th></th>\n",
       "      <th>adult</th>\n",
       "      <th>belongs_to_collection</th>\n",
       "      <th>budget</th>\n",
       "      <th>genres</th>\n",
       "      <th>homepage</th>\n",
       "      <th>id</th>\n",
       "      <th>imdb_id</th>\n",
       "      <th>original_language</th>\n",
       "      <th>original_title</th>\n",
       "      <th>overview</th>\n",
       "      <th>...</th>\n",
       "      <th>release_date</th>\n",
       "      <th>revenue</th>\n",
       "      <th>runtime</th>\n",
       "      <th>spoken_languages</th>\n",
       "      <th>status</th>\n",
       "      <th>tagline</th>\n",
       "      <th>title</th>\n",
       "      <th>video</th>\n",
       "      <th>vote_average</th>\n",
       "      <th>vote_count</th>\n",
       "    </tr>\n",
       "  </thead>\n",
       "  <tbody>\n",
       "    <tr>\n",
       "      <th>0</th>\n",
       "      <td>False</td>\n",
       "      <td>{'id': 10194, 'name': 'Toy Story Collection', ...</td>\n",
       "      <td>30000000</td>\n",
       "      <td>[{'id': 16, 'name': 'Animation'}, {'id': 35, '...</td>\n",
       "      <td>http://toystory.disney.com/toy-story</td>\n",
       "      <td>862</td>\n",
       "      <td>tt0114709</td>\n",
       "      <td>en</td>\n",
       "      <td>Toy Story</td>\n",
       "      <td>Led by Woody, Andy's toys live happily in his ...</td>\n",
       "      <td>...</td>\n",
       "      <td>1995-10-30</td>\n",
       "      <td>373554033.0</td>\n",
       "      <td>81.0</td>\n",
       "      <td>[{'iso_639_1': 'en', 'name': 'English'}]</td>\n",
       "      <td>Released</td>\n",
       "      <td>NaN</td>\n",
       "      <td>Toy Story</td>\n",
       "      <td>False</td>\n",
       "      <td>7.7</td>\n",
       "      <td>5415.0</td>\n",
       "    </tr>\n",
       "    <tr>\n",
       "      <th>1</th>\n",
       "      <td>False</td>\n",
       "      <td>NaN</td>\n",
       "      <td>65000000</td>\n",
       "      <td>[{'id': 12, 'name': 'Adventure'}, {'id': 14, '...</td>\n",
       "      <td>NaN</td>\n",
       "      <td>8844</td>\n",
       "      <td>tt0113497</td>\n",
       "      <td>en</td>\n",
       "      <td>Jumanji</td>\n",
       "      <td>When siblings Judy and Peter discover an encha...</td>\n",
       "      <td>...</td>\n",
       "      <td>1995-12-15</td>\n",
       "      <td>262797249.0</td>\n",
       "      <td>104.0</td>\n",
       "      <td>[{'iso_639_1': 'en', 'name': 'English'}, {'iso...</td>\n",
       "      <td>Released</td>\n",
       "      <td>Roll the dice and unleash the excitement!</td>\n",
       "      <td>Jumanji</td>\n",
       "      <td>False</td>\n",
       "      <td>6.9</td>\n",
       "      <td>2413.0</td>\n",
       "    </tr>\n",
       "  </tbody>\n",
       "</table>\n",
       "<p>2 rows × 24 columns</p>\n",
       "</div>"
      ],
      "text/plain": [
       "   adult                              belongs_to_collection    budget  \\\n",
       "0  False  {'id': 10194, 'name': 'Toy Story Collection', ...  30000000   \n",
       "1  False                                                NaN  65000000   \n",
       "\n",
       "                                              genres  \\\n",
       "0  [{'id': 16, 'name': 'Animation'}, {'id': 35, '...   \n",
       "1  [{'id': 12, 'name': 'Adventure'}, {'id': 14, '...   \n",
       "\n",
       "                               homepage    id    imdb_id original_language  \\\n",
       "0  http://toystory.disney.com/toy-story   862  tt0114709                en   \n",
       "1                                   NaN  8844  tt0113497                en   \n",
       "\n",
       "  original_title                                           overview  ...  \\\n",
       "0      Toy Story  Led by Woody, Andy's toys live happily in his ...  ...   \n",
       "1        Jumanji  When siblings Judy and Peter discover an encha...  ...   \n",
       "\n",
       "  release_date      revenue runtime  \\\n",
       "0   1995-10-30  373554033.0    81.0   \n",
       "1   1995-12-15  262797249.0   104.0   \n",
       "\n",
       "                                    spoken_languages    status  \\\n",
       "0           [{'iso_639_1': 'en', 'name': 'English'}]  Released   \n",
       "1  [{'iso_639_1': 'en', 'name': 'English'}, {'iso...  Released   \n",
       "\n",
       "                                     tagline      title  video vote_average  \\\n",
       "0                                        NaN  Toy Story  False          7.7   \n",
       "1  Roll the dice and unleash the excitement!    Jumanji  False          6.9   \n",
       "\n",
       "  vote_count  \n",
       "0     5415.0  \n",
       "1     2413.0  \n",
       "\n",
       "[2 rows x 24 columns]"
      ]
     },
     "execution_count": 152,
     "metadata": {},
     "output_type": "execute_result"
    }
   ],
   "source": [
    "movies.head(2)"
   ]
  },
  {
   "cell_type": "code",
   "execution_count": 153,
   "metadata": {},
   "outputs": [
    {
     "data": {
      "text/html": [
       "<div>\n",
       "<style scoped>\n",
       "    .dataframe tbody tr th:only-of-type {\n",
       "        vertical-align: middle;\n",
       "    }\n",
       "\n",
       "    .dataframe tbody tr th {\n",
       "        vertical-align: top;\n",
       "    }\n",
       "\n",
       "    .dataframe thead th {\n",
       "        text-align: right;\n",
       "    }\n",
       "</style>\n",
       "<table border=\"1\" class=\"dataframe\">\n",
       "  <thead>\n",
       "    <tr style=\"text-align: right;\">\n",
       "      <th></th>\n",
       "      <th>adult</th>\n",
       "      <th>belongs_to_collection</th>\n",
       "      <th>budget</th>\n",
       "      <th>genres</th>\n",
       "      <th>homepage</th>\n",
       "      <th>id</th>\n",
       "      <th>imdb_id</th>\n",
       "      <th>original_language</th>\n",
       "      <th>original_title</th>\n",
       "      <th>overview</th>\n",
       "      <th>...</th>\n",
       "      <th>release_date</th>\n",
       "      <th>revenue</th>\n",
       "      <th>runtime</th>\n",
       "      <th>spoken_languages</th>\n",
       "      <th>status</th>\n",
       "      <th>tagline</th>\n",
       "      <th>title</th>\n",
       "      <th>video</th>\n",
       "      <th>vote_average</th>\n",
       "      <th>vote_count</th>\n",
       "    </tr>\n",
       "  </thead>\n",
       "  <tbody>\n",
       "    <tr>\n",
       "      <th>2416</th>\n",
       "      <td>False</td>\n",
       "      <td>{'id': 1709, 'name': 'Planet of the Apes Origi...</td>\n",
       "      <td>5800000</td>\n",
       "      <td>[{'id': 878, 'name': 'Science Fiction'}, {'id'...</td>\n",
       "      <td>http://www.foxmovies.com/movies/planet-of-the-...</td>\n",
       "      <td>871</td>\n",
       "      <td>tt0063442</td>\n",
       "      <td>en</td>\n",
       "      <td>Planet of the Apes</td>\n",
       "      <td>An  U.S. Spaceship lands on a desolate planet,...</td>\n",
       "      <td>...</td>\n",
       "      <td>1968-02-07</td>\n",
       "      <td>33395426.0</td>\n",
       "      <td>112.0</td>\n",
       "      <td>[{'iso_639_1': 'en', 'name': 'English'}]</td>\n",
       "      <td>Released</td>\n",
       "      <td>Somewhere in the Universe, there must be somet...</td>\n",
       "      <td>Planet of the Apes</td>\n",
       "      <td>False</td>\n",
       "      <td>7.5</td>\n",
       "      <td>958.0</td>\n",
       "    </tr>\n",
       "    <tr>\n",
       "      <th>26271</th>\n",
       "      <td>False</td>\n",
       "      <td>NaN</td>\n",
       "      <td>4500000</td>\n",
       "      <td>[{'id': 53, 'name': 'Thriller'}, {'id': 28, 'n...</td>\n",
       "      <td>NaN</td>\n",
       "      <td>35153</td>\n",
       "      <td>tt0473364</td>\n",
       "      <td>en</td>\n",
       "      <td>The Heavy</td>\n",
       "      <td>Sibling rivalry turned into betrayal between t...</td>\n",
       "      <td>...</td>\n",
       "      <td>2010-04-08</td>\n",
       "      <td>0.0</td>\n",
       "      <td>102.0</td>\n",
       "      <td>[{'iso_639_1': 'en', 'name': 'English'}]</td>\n",
       "      <td>Released</td>\n",
       "      <td>NaN</td>\n",
       "      <td>The Heavy</td>\n",
       "      <td>False</td>\n",
       "      <td>4.9</td>\n",
       "      <td>20.0</td>\n",
       "    </tr>\n",
       "    <tr>\n",
       "      <th>37771</th>\n",
       "      <td>False</td>\n",
       "      <td>NaN</td>\n",
       "      <td>0</td>\n",
       "      <td>[{'id': 37, 'name': 'Western'}]</td>\n",
       "      <td>NaN</td>\n",
       "      <td>207178</td>\n",
       "      <td>tt0044838</td>\n",
       "      <td>en</td>\n",
       "      <td>The Lion and the Horse</td>\n",
       "      <td>After selling it to a cruel rodeo owner, a cow...</td>\n",
       "      <td>...</td>\n",
       "      <td>1952-05-16</td>\n",
       "      <td>0.0</td>\n",
       "      <td>83.0</td>\n",
       "      <td>[{'iso_639_1': 'en', 'name': 'English'}]</td>\n",
       "      <td>Released</td>\n",
       "      <td>King of the wild beasts against king of wild h...</td>\n",
       "      <td>The Lion and the Horse</td>\n",
       "      <td>False</td>\n",
       "      <td>5.0</td>\n",
       "      <td>1.0</td>\n",
       "    </tr>\n",
       "  </tbody>\n",
       "</table>\n",
       "<p>3 rows × 24 columns</p>\n",
       "</div>"
      ],
      "text/plain": [
       "       adult                              belongs_to_collection   budget  \\\n",
       "2416   False  {'id': 1709, 'name': 'Planet of the Apes Origi...  5800000   \n",
       "26271  False                                                NaN  4500000   \n",
       "37771  False                                                NaN        0   \n",
       "\n",
       "                                                  genres  \\\n",
       "2416   [{'id': 878, 'name': 'Science Fiction'}, {'id'...   \n",
       "26271  [{'id': 53, 'name': 'Thriller'}, {'id': 28, 'n...   \n",
       "37771                    [{'id': 37, 'name': 'Western'}]   \n",
       "\n",
       "                                                homepage      id    imdb_id  \\\n",
       "2416   http://www.foxmovies.com/movies/planet-of-the-...     871  tt0063442   \n",
       "26271                                                NaN   35153  tt0473364   \n",
       "37771                                                NaN  207178  tt0044838   \n",
       "\n",
       "      original_language          original_title  \\\n",
       "2416                 en      Planet of the Apes   \n",
       "26271                en               The Heavy   \n",
       "37771                en  The Lion and the Horse   \n",
       "\n",
       "                                                overview  ... release_date  \\\n",
       "2416   An  U.S. Spaceship lands on a desolate planet,...  ...   1968-02-07   \n",
       "26271  Sibling rivalry turned into betrayal between t...  ...   2010-04-08   \n",
       "37771  After selling it to a cruel rodeo owner, a cow...  ...   1952-05-16   \n",
       "\n",
       "          revenue runtime                          spoken_languages    status  \\\n",
       "2416   33395426.0   112.0  [{'iso_639_1': 'en', 'name': 'English'}]  Released   \n",
       "26271         0.0   102.0  [{'iso_639_1': 'en', 'name': 'English'}]  Released   \n",
       "37771         0.0    83.0  [{'iso_639_1': 'en', 'name': 'English'}]  Released   \n",
       "\n",
       "                                                 tagline  \\\n",
       "2416   Somewhere in the Universe, there must be somet...   \n",
       "26271                                                NaN   \n",
       "37771  King of the wild beasts against king of wild h...   \n",
       "\n",
       "                        title  video vote_average vote_count  \n",
       "2416       Planet of the Apes  False          7.5      958.0  \n",
       "26271               The Heavy  False          4.9       20.0  \n",
       "37771  The Lion and the Horse  False          5.0        1.0  \n",
       "\n",
       "[3 rows x 24 columns]"
      ]
     },
     "execution_count": 153,
     "metadata": {},
     "output_type": "execute_result"
    }
   ],
   "source": [
    "movies.sample(3)"
   ]
  },
  {
   "cell_type": "code",
   "execution_count": 154,
   "metadata": {},
   "outputs": [
    {
     "data": {
      "text/plain": [
       "Index(['adult', 'belongs_to_collection', 'budget', 'genres', 'homepage', 'id',\n",
       "       'imdb_id', 'original_language', 'original_title', 'overview',\n",
       "       'popularity', 'poster_path', 'production_companies',\n",
       "       'production_countries', 'release_date', 'revenue', 'runtime',\n",
       "       'spoken_languages', 'status', 'tagline', 'title', 'video',\n",
       "       'vote_average', 'vote_count'],\n",
       "      dtype='object')"
      ]
     },
     "execution_count": 154,
     "metadata": {},
     "output_type": "execute_result"
    }
   ],
   "source": [
    "movies.columns"
   ]
  },
  {
   "cell_type": "code",
   "execution_count": 155,
   "metadata": {},
   "outputs": [],
   "source": [
    "movies = movies[['id', 'title','genres', 'status', 'overview', 'popularity', 'runtime', 'original_language', 'production_companies', 'production_countries', 'vote_average', 'vote_count']]"
   ]
  },
  {
   "cell_type": "code",
   "execution_count": 156,
   "metadata": {},
   "outputs": [
    {
     "data": {
      "text/plain": [
       "13"
      ]
     },
     "execution_count": 156,
     "metadata": {},
     "output_type": "execute_result"
    }
   ],
   "source": [
    "movies.duplicated().sum()"
   ]
  },
  {
   "cell_type": "code",
   "execution_count": 157,
   "metadata": {},
   "outputs": [],
   "source": [
    "movies.drop_duplicates(keep='first', inplace=True)"
   ]
  },
  {
   "cell_type": "code",
   "execution_count": 158,
   "metadata": {},
   "outputs": [
    {
     "data": {
      "text/plain": [
       "0"
      ]
     },
     "execution_count": 158,
     "metadata": {},
     "output_type": "execute_result"
    }
   ],
   "source": [
    "movies.duplicated().sum()"
   ]
  },
  {
   "cell_type": "code",
   "execution_count": 159,
   "metadata": {},
   "outputs": [
    {
     "data": {
      "text/plain": [
       "id                        0\n",
       "title                     0\n",
       "genres                    0\n",
       "status                   87\n",
       "overview                954\n",
       "popularity                5\n",
       "runtime                 263\n",
       "original_language        11\n",
       "production_companies      3\n",
       "production_countries      3\n",
       "vote_average              0\n",
       "vote_count                0\n",
       "dtype: int64"
      ]
     },
     "execution_count": 159,
     "metadata": {},
     "output_type": "execute_result"
    }
   ],
   "source": [
    "movies.isna().sum()"
   ]
  },
  {
   "cell_type": "code",
   "execution_count": 160,
   "metadata": {},
   "outputs": [
    {
     "data": {
      "text/html": [
       "<div>\n",
       "<style scoped>\n",
       "    .dataframe tbody tr th:only-of-type {\n",
       "        vertical-align: middle;\n",
       "    }\n",
       "\n",
       "    .dataframe tbody tr th {\n",
       "        vertical-align: top;\n",
       "    }\n",
       "\n",
       "    .dataframe thead th {\n",
       "        text-align: right;\n",
       "    }\n",
       "</style>\n",
       "<table border=\"1\" class=\"dataframe\">\n",
       "  <thead>\n",
       "    <tr style=\"text-align: right;\">\n",
       "      <th></th>\n",
       "      <th>id</th>\n",
       "      <th>title</th>\n",
       "      <th>genres</th>\n",
       "      <th>status</th>\n",
       "      <th>overview</th>\n",
       "      <th>popularity</th>\n",
       "      <th>runtime</th>\n",
       "      <th>original_language</th>\n",
       "      <th>production_companies</th>\n",
       "      <th>production_countries</th>\n",
       "      <th>vote_average</th>\n",
       "      <th>vote_count</th>\n",
       "    </tr>\n",
       "  </thead>\n",
       "  <tbody>\n",
       "    <tr>\n",
       "      <th>19739</th>\n",
       "      <td>97430</td>\n",
       "      <td>The Man with the Iron Fists</td>\n",
       "      <td>[{'id': 28, 'name': 'Action'}]</td>\n",
       "      <td>Released</td>\n",
       "      <td>In feudal China, a blacksmith who makes weapon...</td>\n",
       "      <td>8.310945</td>\n",
       "      <td>96.0</td>\n",
       "      <td>en</td>\n",
       "      <td>[{'name': 'Arcade Pictures', 'id': 11112}, {'n...</td>\n",
       "      <td>[{'iso_3166_1': 'HK', 'name': 'Hong Kong'}, {'...</td>\n",
       "      <td>5.2</td>\n",
       "      <td>369.0</td>\n",
       "    </tr>\n",
       "    <tr>\n",
       "      <th>4685</th>\n",
       "      <td>11313</td>\n",
       "      <td>Hearts in Atlantis</td>\n",
       "      <td>[{'id': 18, 'name': 'Drama'}, {'id': 9648, 'na...</td>\n",
       "      <td>Released</td>\n",
       "      <td>A widowed mother and her son change when a mys...</td>\n",
       "      <td>6.425321</td>\n",
       "      <td>101.0</td>\n",
       "      <td>en</td>\n",
       "      <td>[{'name': 'Village Roadshow Pictures', 'id': 7...</td>\n",
       "      <td>[{'iso_3166_1': 'AU', 'name': 'Australia'}, {'...</td>\n",
       "      <td>6.5</td>\n",
       "      <td>132.0</td>\n",
       "    </tr>\n",
       "    <tr>\n",
       "      <th>33314</th>\n",
       "      <td>31927</td>\n",
       "      <td>One of Us</td>\n",
       "      <td>[{'id': 18, 'name': 'Drama'}]</td>\n",
       "      <td>Released</td>\n",
       "      <td>A few Palestinian guerilla's break into an Isr...</td>\n",
       "      <td>0.000308</td>\n",
       "      <td>110.0</td>\n",
       "      <td>he</td>\n",
       "      <td>[]</td>\n",
       "      <td>[{'iso_3166_1': 'IL', 'name': 'Israel'}]</td>\n",
       "      <td>5.0</td>\n",
       "      <td>1.0</td>\n",
       "    </tr>\n",
       "  </tbody>\n",
       "</table>\n",
       "</div>"
      ],
      "text/plain": [
       "          id                        title  \\\n",
       "19739  97430  The Man with the Iron Fists   \n",
       "4685   11313           Hearts in Atlantis   \n",
       "33314  31927                    One of Us   \n",
       "\n",
       "                                                  genres    status  \\\n",
       "19739                     [{'id': 28, 'name': 'Action'}]  Released   \n",
       "4685   [{'id': 18, 'name': 'Drama'}, {'id': 9648, 'na...  Released   \n",
       "33314                      [{'id': 18, 'name': 'Drama'}]  Released   \n",
       "\n",
       "                                                overview popularity  runtime  \\\n",
       "19739  In feudal China, a blacksmith who makes weapon...   8.310945     96.0   \n",
       "4685   A widowed mother and her son change when a mys...   6.425321    101.0   \n",
       "33314  A few Palestinian guerilla's break into an Isr...   0.000308    110.0   \n",
       "\n",
       "      original_language                               production_companies  \\\n",
       "19739                en  [{'name': 'Arcade Pictures', 'id': 11112}, {'n...   \n",
       "4685                 en  [{'name': 'Village Roadshow Pictures', 'id': 7...   \n",
       "33314                he                                                 []   \n",
       "\n",
       "                                    production_countries  vote_average  \\\n",
       "19739  [{'iso_3166_1': 'HK', 'name': 'Hong Kong'}, {'...           5.2   \n",
       "4685   [{'iso_3166_1': 'AU', 'name': 'Australia'}, {'...           6.5   \n",
       "33314           [{'iso_3166_1': 'IL', 'name': 'Israel'}]           5.0   \n",
       "\n",
       "       vote_count  \n",
       "19739       369.0  \n",
       "4685        132.0  \n",
       "33314         1.0  "
      ]
     },
     "execution_count": 160,
     "metadata": {},
     "output_type": "execute_result"
    }
   ],
   "source": [
    "movies.sample(3)"
   ]
  },
  {
   "cell_type": "code",
   "execution_count": 161,
   "metadata": {},
   "outputs": [
    {
     "data": {
      "text/plain": [
       "original_language\n",
       "en       32262\n",
       "fr        2437\n",
       "it        1529\n",
       "ja        1350\n",
       "de        1079\n",
       "         ...  \n",
       "zu           1\n",
       "qu           1\n",
       "104.0        1\n",
       "la           1\n",
       "si           1\n",
       "Name: count, Length: 92, dtype: int64"
      ]
     },
     "execution_count": 161,
     "metadata": {},
     "output_type": "execute_result"
    }
   ],
   "source": [
    "movies.original_language.value_counts()"
   ]
  },
  {
   "cell_type": "code",
   "execution_count": 162,
   "metadata": {},
   "outputs": [],
   "source": [
    "movies.loc[movies['original_language'].isna(), 'original_language'] = 'en'"
   ]
  },
  {
   "cell_type": "code",
   "execution_count": 163,
   "metadata": {},
   "outputs": [
    {
     "data": {
      "text/plain": [
       "id                        0\n",
       "title                     0\n",
       "genres                    0\n",
       "status                   87\n",
       "overview                954\n",
       "popularity                5\n",
       "runtime                 263\n",
       "original_language         0\n",
       "production_companies      3\n",
       "production_countries      3\n",
       "vote_average              0\n",
       "vote_count                0\n",
       "dtype: int64"
      ]
     },
     "execution_count": 163,
     "metadata": {},
     "output_type": "execute_result"
    }
   ],
   "source": [
    "movies.isna().sum()"
   ]
  },
  {
   "cell_type": "code",
   "execution_count": 164,
   "metadata": {},
   "outputs": [
    {
     "data": {
      "text/html": [
       "<div>\n",
       "<style scoped>\n",
       "    .dataframe tbody tr th:only-of-type {\n",
       "        vertical-align: middle;\n",
       "    }\n",
       "\n",
       "    .dataframe tbody tr th {\n",
       "        vertical-align: top;\n",
       "    }\n",
       "\n",
       "    .dataframe thead th {\n",
       "        text-align: right;\n",
       "    }\n",
       "</style>\n",
       "<table border=\"1\" class=\"dataframe\">\n",
       "  <thead>\n",
       "    <tr style=\"text-align: right;\">\n",
       "      <th></th>\n",
       "      <th>id</th>\n",
       "      <th>title</th>\n",
       "      <th>genres</th>\n",
       "      <th>status</th>\n",
       "      <th>overview</th>\n",
       "      <th>popularity</th>\n",
       "      <th>runtime</th>\n",
       "      <th>original_language</th>\n",
       "      <th>production_companies</th>\n",
       "      <th>production_countries</th>\n",
       "      <th>vote_average</th>\n",
       "      <th>vote_count</th>\n",
       "    </tr>\n",
       "  </thead>\n",
       "  <tbody>\n",
       "    <tr>\n",
       "      <th>19729</th>\n",
       "      <td>82663</td>\n",
       "      <td>Midnight Man</td>\n",
       "      <td>[{'id': 28, 'name': 'Action'}, {'id': 53, 'nam...</td>\n",
       "      <td>NaN</td>\n",
       "      <td>British soldiers force a recently captured IRA...</td>\n",
       "      <td>NaN</td>\n",
       "      <td>NaN</td>\n",
       "      <td>en</td>\n",
       "      <td>NaN</td>\n",
       "      <td>NaN</td>\n",
       "      <td>0.0</td>\n",
       "      <td>0.0</td>\n",
       "    </tr>\n",
       "    <tr>\n",
       "      <th>19730</th>\n",
       "      <td>1997-08-20</td>\n",
       "      <td>[{'iso_639_1': 'en', 'name': 'English'}]</td>\n",
       "      <td>[{'name': 'Carousel Productions', 'id': 11176}...</td>\n",
       "      <td>NaN</td>\n",
       "      <td>Released</td>\n",
       "      <td>NaN</td>\n",
       "      <td>NaN</td>\n",
       "      <td>104.0</td>\n",
       "      <td>False</td>\n",
       "      <td>6.0</td>\n",
       "      <td>0.0</td>\n",
       "      <td>0.0</td>\n",
       "    </tr>\n",
       "    <tr>\n",
       "      <th>29502</th>\n",
       "      <td>122662</td>\n",
       "      <td>マルドゥック・スクランブル 排気</td>\n",
       "      <td>[{'id': 16, 'name': 'Animation'}, {'id': 878, ...</td>\n",
       "      <td>NaN</td>\n",
       "      <td>Third film of the Mardock Scramble series.</td>\n",
       "      <td>NaN</td>\n",
       "      <td>NaN</td>\n",
       "      <td>ja</td>\n",
       "      <td>NaN</td>\n",
       "      <td>NaN</td>\n",
       "      <td>0.0</td>\n",
       "      <td>0.0</td>\n",
       "    </tr>\n",
       "    <tr>\n",
       "      <th>29503</th>\n",
       "      <td>2012-09-29</td>\n",
       "      <td>[{'iso_639_1': 'ja', 'name': '日本語'}]</td>\n",
       "      <td>[{'name': 'Aniplex', 'id': 2883}, {'name': 'Go...</td>\n",
       "      <td>NaN</td>\n",
       "      <td>Released</td>\n",
       "      <td>NaN</td>\n",
       "      <td>NaN</td>\n",
       "      <td>68.0</td>\n",
       "      <td>False</td>\n",
       "      <td>7.0</td>\n",
       "      <td>0.0</td>\n",
       "      <td>0.0</td>\n",
       "    </tr>\n",
       "    <tr>\n",
       "      <th>35586</th>\n",
       "      <td>249260</td>\n",
       "      <td>Avalanche Sharks</td>\n",
       "      <td>[{'id': 10770, 'name': 'TV Movie'}, {'id': 28,...</td>\n",
       "      <td>NaN</td>\n",
       "      <td>A group of skiers are terrorized during spring...</td>\n",
       "      <td>NaN</td>\n",
       "      <td>NaN</td>\n",
       "      <td>en</td>\n",
       "      <td>NaN</td>\n",
       "      <td>NaN</td>\n",
       "      <td>0.0</td>\n",
       "      <td>0.0</td>\n",
       "    </tr>\n",
       "  </tbody>\n",
       "</table>\n",
       "</div>"
      ],
      "text/plain": [
       "               id                                     title  \\\n",
       "19729       82663                              Midnight Man   \n",
       "19730  1997-08-20  [{'iso_639_1': 'en', 'name': 'English'}]   \n",
       "29502      122662                          マルドゥック・スクランブル 排気   \n",
       "29503  2012-09-29      [{'iso_639_1': 'ja', 'name': '日本語'}]   \n",
       "35586      249260                          Avalanche Sharks   \n",
       "\n",
       "                                                  genres status  \\\n",
       "19729  [{'id': 28, 'name': 'Action'}, {'id': 53, 'nam...    NaN   \n",
       "19730  [{'name': 'Carousel Productions', 'id': 11176}...    NaN   \n",
       "29502  [{'id': 16, 'name': 'Animation'}, {'id': 878, ...    NaN   \n",
       "29503  [{'name': 'Aniplex', 'id': 2883}, {'name': 'Go...    NaN   \n",
       "35586  [{'id': 10770, 'name': 'TV Movie'}, {'id': 28,...    NaN   \n",
       "\n",
       "                                                overview popularity  runtime  \\\n",
       "19729  British soldiers force a recently captured IRA...        NaN      NaN   \n",
       "19730                                           Released        NaN      NaN   \n",
       "29502         Third film of the Mardock Scramble series.        NaN      NaN   \n",
       "29503                                           Released        NaN      NaN   \n",
       "35586  A group of skiers are terrorized during spring...        NaN      NaN   \n",
       "\n",
       "      original_language production_companies production_countries  \\\n",
       "19729                en                  NaN                  NaN   \n",
       "19730             104.0                False                  6.0   \n",
       "29502                ja                  NaN                  NaN   \n",
       "29503              68.0                False                  7.0   \n",
       "35586                en                  NaN                  NaN   \n",
       "\n",
       "       vote_average  vote_count  \n",
       "19729           0.0         0.0  \n",
       "19730           0.0         0.0  \n",
       "29502           0.0         0.0  \n",
       "29503           0.0         0.0  \n",
       "35586           0.0         0.0  "
      ]
     },
     "execution_count": 164,
     "metadata": {},
     "output_type": "execute_result"
    }
   ],
   "source": [
    "movies[movies['popularity'].isna()]"
   ]
  },
  {
   "cell_type": "code",
   "execution_count": 165,
   "metadata": {},
   "outputs": [],
   "source": [
    "movies.drop('runtime', inplace=True, axis=1)"
   ]
  },
  {
   "cell_type": "code",
   "execution_count": 166,
   "metadata": {},
   "outputs": [],
   "source": [
    "movies.loc[movies['overview'].isna(), 'overview'] = 'Not thing'"
   ]
  },
  {
   "cell_type": "code",
   "execution_count": 167,
   "metadata": {},
   "outputs": [],
   "source": [
    "movies.loc[movies['status'].isna(), 'status'] = 'Unknown'"
   ]
  },
  {
   "cell_type": "code",
   "execution_count": 168,
   "metadata": {},
   "outputs": [
    {
     "data": {
      "text/html": [
       "<div>\n",
       "<style scoped>\n",
       "    .dataframe tbody tr th:only-of-type {\n",
       "        vertical-align: middle;\n",
       "    }\n",
       "\n",
       "    .dataframe tbody tr th {\n",
       "        vertical-align: top;\n",
       "    }\n",
       "\n",
       "    .dataframe thead th {\n",
       "        text-align: right;\n",
       "    }\n",
       "</style>\n",
       "<table border=\"1\" class=\"dataframe\">\n",
       "  <thead>\n",
       "    <tr style=\"text-align: right;\">\n",
       "      <th></th>\n",
       "      <th>id</th>\n",
       "      <th>title</th>\n",
       "      <th>genres</th>\n",
       "      <th>status</th>\n",
       "      <th>overview</th>\n",
       "      <th>popularity</th>\n",
       "      <th>original_language</th>\n",
       "      <th>production_companies</th>\n",
       "      <th>production_countries</th>\n",
       "      <th>vote_average</th>\n",
       "      <th>vote_count</th>\n",
       "    </tr>\n",
       "  </thead>\n",
       "  <tbody>\n",
       "    <tr>\n",
       "      <th>3873</th>\n",
       "      <td>11983</td>\n",
       "      <td>Proof of Life</td>\n",
       "      <td>[{'id': 28, 'name': 'Action'}, {'id': 12, 'nam...</td>\n",
       "      <td>Released</td>\n",
       "      <td>Alice hires a professional negotiator to obtai...</td>\n",
       "      <td>9.508691</td>\n",
       "      <td>en</td>\n",
       "      <td>[{'name': 'Castle Rock Entertainment', 'id': 9...</td>\n",
       "      <td>[{'iso_3166_1': 'US', 'name': 'United States o...</td>\n",
       "      <td>6.1</td>\n",
       "      <td>211.0</td>\n",
       "    </tr>\n",
       "    <tr>\n",
       "      <th>38606</th>\n",
       "      <td>253484</td>\n",
       "      <td>1 Chance 2 Dance</td>\n",
       "      <td>[]</td>\n",
       "      <td>Released</td>\n",
       "      <td>When a 17-year old aspiring dancer is uprooted...</td>\n",
       "      <td>1.212888</td>\n",
       "      <td>en</td>\n",
       "      <td>[]</td>\n",
       "      <td>[]</td>\n",
       "      <td>5.6</td>\n",
       "      <td>16.0</td>\n",
       "    </tr>\n",
       "    <tr>\n",
       "      <th>21667</th>\n",
       "      <td>245950</td>\n",
       "      <td>The Dragonphoenix Chronicles: Indomitable</td>\n",
       "      <td>[{'id': 12, 'name': 'Adventure'}, {'id': 28, '...</td>\n",
       "      <td>Released</td>\n",
       "      <td>A savage warrior escapes slavery and hunted by...</td>\n",
       "      <td>0.381124</td>\n",
       "      <td>el</td>\n",
       "      <td>[{'name': 'Avalon Productions', 'id': 18970}]</td>\n",
       "      <td>[{'iso_3166_1': 'GR', 'name': 'Greece'}]</td>\n",
       "      <td>5.0</td>\n",
       "      <td>2.0</td>\n",
       "    </tr>\n",
       "    <tr>\n",
       "      <th>33843</th>\n",
       "      <td>335640</td>\n",
       "      <td>The Deal</td>\n",
       "      <td>[{'id': 80, 'name': 'Crime'}, {'id': 18, 'name...</td>\n",
       "      <td>Released</td>\n",
       "      <td>Serial killer Kang-Cheon made several victims....</td>\n",
       "      <td>0.996272</td>\n",
       "      <td>ko</td>\n",
       "      <td>[{'name': '9ers Entertainment', 'id': 41527}]</td>\n",
       "      <td>[{'iso_3166_1': 'KR', 'name': 'South Korea'}]</td>\n",
       "      <td>5.7</td>\n",
       "      <td>10.0</td>\n",
       "    </tr>\n",
       "    <tr>\n",
       "      <th>5499</th>\n",
       "      <td>9260</td>\n",
       "      <td>Welcome to Collinwood</td>\n",
       "      <td>[{'id': 35, 'name': 'Comedy'}]</td>\n",
       "      <td>Released</td>\n",
       "      <td>Five hapless inner-city low-lifes attempt to b...</td>\n",
       "      <td>3.031934</td>\n",
       "      <td>en</td>\n",
       "      <td>[{'name': 'Section Eight', 'id': 129}, {'name'...</td>\n",
       "      <td>[{'iso_3166_1': 'DE', 'name': 'Germany'}, {'is...</td>\n",
       "      <td>6.2</td>\n",
       "      <td>50.0</td>\n",
       "    </tr>\n",
       "  </tbody>\n",
       "</table>\n",
       "</div>"
      ],
      "text/plain": [
       "           id                                      title  \\\n",
       "3873    11983                              Proof of Life   \n",
       "38606  253484                           1 Chance 2 Dance   \n",
       "21667  245950  The Dragonphoenix Chronicles: Indomitable   \n",
       "33843  335640                                   The Deal   \n",
       "5499     9260                      Welcome to Collinwood   \n",
       "\n",
       "                                                  genres    status  \\\n",
       "3873   [{'id': 28, 'name': 'Action'}, {'id': 12, 'nam...  Released   \n",
       "38606                                                 []  Released   \n",
       "21667  [{'id': 12, 'name': 'Adventure'}, {'id': 28, '...  Released   \n",
       "33843  [{'id': 80, 'name': 'Crime'}, {'id': 18, 'name...  Released   \n",
       "5499                      [{'id': 35, 'name': 'Comedy'}]  Released   \n",
       "\n",
       "                                                overview popularity  \\\n",
       "3873   Alice hires a professional negotiator to obtai...   9.508691   \n",
       "38606  When a 17-year old aspiring dancer is uprooted...   1.212888   \n",
       "21667  A savage warrior escapes slavery and hunted by...   0.381124   \n",
       "33843  Serial killer Kang-Cheon made several victims....   0.996272   \n",
       "5499   Five hapless inner-city low-lifes attempt to b...   3.031934   \n",
       "\n",
       "      original_language                               production_companies  \\\n",
       "3873                 en  [{'name': 'Castle Rock Entertainment', 'id': 9...   \n",
       "38606                en                                                 []   \n",
       "21667                el      [{'name': 'Avalon Productions', 'id': 18970}]   \n",
       "33843                ko      [{'name': '9ers Entertainment', 'id': 41527}]   \n",
       "5499                 en  [{'name': 'Section Eight', 'id': 129}, {'name'...   \n",
       "\n",
       "                                    production_countries  vote_average  \\\n",
       "3873   [{'iso_3166_1': 'US', 'name': 'United States o...           6.1   \n",
       "38606                                                 []           5.6   \n",
       "21667           [{'iso_3166_1': 'GR', 'name': 'Greece'}]           5.0   \n",
       "33843      [{'iso_3166_1': 'KR', 'name': 'South Korea'}]           5.7   \n",
       "5499   [{'iso_3166_1': 'DE', 'name': 'Germany'}, {'is...           6.2   \n",
       "\n",
       "       vote_count  \n",
       "3873        211.0  \n",
       "38606        16.0  \n",
       "21667         2.0  \n",
       "33843        10.0  \n",
       "5499         50.0  "
      ]
     },
     "execution_count": 168,
     "metadata": {},
     "output_type": "execute_result"
    }
   ],
   "source": [
    "movies.sample(5)"
   ]
  },
  {
   "cell_type": "code",
   "execution_count": 169,
   "metadata": {},
   "outputs": [
    {
     "name": "stdout",
     "output_type": "stream",
     "text": [
      "<class 'pandas.core.frame.DataFrame'>\n",
      "Index: 45453 entries, 0 to 45465\n",
      "Data columns (total 11 columns):\n",
      " #   Column                Non-Null Count  Dtype  \n",
      "---  ------                --------------  -----  \n",
      " 0   id                    45453 non-null  object \n",
      " 1   title                 45453 non-null  object \n",
      " 2   genres                45453 non-null  object \n",
      " 3   status                45453 non-null  object \n",
      " 4   overview              45453 non-null  object \n",
      " 5   popularity            45448 non-null  object \n",
      " 6   original_language     45453 non-null  object \n",
      " 7   production_companies  45450 non-null  object \n",
      " 8   production_countries  45450 non-null  object \n",
      " 9   vote_average          45453 non-null  float64\n",
      " 10  vote_count            45453 non-null  float64\n",
      "dtypes: float64(2), object(9)\n",
      "memory usage: 4.2+ MB\n"
     ]
    }
   ],
   "source": [
    "movies.info()"
   ]
  },
  {
   "cell_type": "code",
   "execution_count": 170,
   "metadata": {},
   "outputs": [],
   "source": [
    "movies.loc[movies['id'] == '2014-01-01', 'id'] = 201411"
   ]
  },
  {
   "cell_type": "code",
   "execution_count": 174,
   "metadata": {},
   "outputs": [],
   "source": [
    "movies['id'] = movies['id'].astype(int)"
   ]
  },
  {
   "cell_type": "code",
   "execution_count": 173,
   "metadata": {},
   "outputs": [],
   "source": [
    "movies.loc[movies['id'] == '1997-08-20','id'] = 199782"
   ]
  },
  {
   "cell_type": "code",
   "execution_count": 172,
   "metadata": {},
   "outputs": [],
   "source": [
    "movies.loc[movies['id'] == '2012-09-29','id'] = 2012929"
   ]
  },
  {
   "cell_type": "code",
   "execution_count": null,
   "metadata": {},
   "outputs": [],
   "source": [
    "movies.loc[movies['id'] == 201411, 'popularity'] = 0.0"
   ]
  },
  {
   "cell_type": "code",
   "execution_count": null,
   "metadata": {},
   "outputs": [],
   "source": [
    "movies['popularity'] = movies['popularity'].astype(float)"
   ]
  },
  {
   "cell_type": "code",
   "execution_count": 185,
   "metadata": {},
   "outputs": [
    {
     "data": {
      "text/plain": [
       "id                      0\n",
       "title                   0\n",
       "genres                  0\n",
       "status                  0\n",
       "overview                0\n",
       "popularity              4\n",
       "original_language       0\n",
       "production_companies    3\n",
       "production_countries    3\n",
       "vote_average            0\n",
       "vote_count              0\n",
       "dtype: int64"
      ]
     },
     "execution_count": 185,
     "metadata": {},
     "output_type": "execute_result"
    }
   ],
   "source": [
    "movies.isna().sum()"
   ]
  },
  {
   "cell_type": "code",
   "execution_count": null,
   "metadata": {},
   "outputs": [],
   "source": [
    "movies.dropna(inplace=True)"
   ]
  },
  {
   "cell_type": "code",
   "execution_count": null,
   "metadata": {},
   "outputs": [
    {
     "data": {
      "text/html": [
       "<div>\n",
       "<style scoped>\n",
       "    .dataframe tbody tr th:only-of-type {\n",
       "        vertical-align: middle;\n",
       "    }\n",
       "\n",
       "    .dataframe tbody tr th {\n",
       "        vertical-align: top;\n",
       "    }\n",
       "\n",
       "    .dataframe thead th {\n",
       "        text-align: right;\n",
       "    }\n",
       "</style>\n",
       "<table border=\"1\" class=\"dataframe\">\n",
       "  <thead>\n",
       "    <tr style=\"text-align: right;\">\n",
       "      <th></th>\n",
       "      <th>id</th>\n",
       "      <th>title</th>\n",
       "      <th>genres</th>\n",
       "      <th>status</th>\n",
       "      <th>overview</th>\n",
       "      <th>popularity</th>\n",
       "      <th>original_language</th>\n",
       "      <th>production_companies</th>\n",
       "      <th>production_countries</th>\n",
       "      <th>vote_average</th>\n",
       "      <th>vote_count</th>\n",
       "    </tr>\n",
       "  </thead>\n",
       "  <tbody>\n",
       "    <tr>\n",
       "      <th>0</th>\n",
       "      <td>862</td>\n",
       "      <td>Toy Story</td>\n",
       "      <td>[{'id': 16, 'name': 'Animation'}, {'id': 35, '...</td>\n",
       "      <td>Released</td>\n",
       "      <td>Led by Woody, Andy's toys live happily in his ...</td>\n",
       "      <td>21.946943</td>\n",
       "      <td>en</td>\n",
       "      <td>[{'name': 'Pixar Animation Studios', 'id': 3}]</td>\n",
       "      <td>[{'iso_3166_1': 'US', 'name': 'United States o...</td>\n",
       "      <td>7.7</td>\n",
       "      <td>5415.0</td>\n",
       "    </tr>\n",
       "    <tr>\n",
       "      <th>1</th>\n",
       "      <td>8844</td>\n",
       "      <td>Jumanji</td>\n",
       "      <td>[{'id': 12, 'name': 'Adventure'}, {'id': 14, '...</td>\n",
       "      <td>Released</td>\n",
       "      <td>When siblings Judy and Peter discover an encha...</td>\n",
       "      <td>17.015539</td>\n",
       "      <td>en</td>\n",
       "      <td>[{'name': 'TriStar Pictures', 'id': 559}, {'na...</td>\n",
       "      <td>[{'iso_3166_1': 'US', 'name': 'United States o...</td>\n",
       "      <td>6.9</td>\n",
       "      <td>2413.0</td>\n",
       "    </tr>\n",
       "  </tbody>\n",
       "</table>\n",
       "</div>"
      ],
      "text/plain": [
       "     id      title                                             genres  \\\n",
       "0   862  Toy Story  [{'id': 16, 'name': 'Animation'}, {'id': 35, '...   \n",
       "1  8844    Jumanji  [{'id': 12, 'name': 'Adventure'}, {'id': 14, '...   \n",
       "\n",
       "     status                                           overview popularity  \\\n",
       "0  Released  Led by Woody, Andy's toys live happily in his ...  21.946943   \n",
       "1  Released  When siblings Judy and Peter discover an encha...  17.015539   \n",
       "\n",
       "  original_language                               production_companies  \\\n",
       "0                en     [{'name': 'Pixar Animation Studios', 'id': 3}]   \n",
       "1                en  [{'name': 'TriStar Pictures', 'id': 559}, {'na...   \n",
       "\n",
       "                                production_countries  vote_average  vote_count  \n",
       "0  [{'iso_3166_1': 'US', 'name': 'United States o...           7.7      5415.0  \n",
       "1  [{'iso_3166_1': 'US', 'name': 'United States o...           6.9      2413.0  "
      ]
     },
     "execution_count": 122,
     "metadata": {},
     "output_type": "execute_result"
    }
   ],
   "source": [
    "movies.head(2)"
   ]
  },
  {
   "cell_type": "code",
   "execution_count": 176,
   "metadata": {},
   "outputs": [],
   "source": [
    "movies.drop(movies.loc[movies['genres'] == '[]'].index, inplace=True)"
   ]
  },
  {
   "cell_type": "code",
   "execution_count": 178,
   "metadata": {},
   "outputs": [],
   "source": [
    "import ast"
   ]
  },
  {
   "cell_type": "code",
   "execution_count": 179,
   "metadata": {},
   "outputs": [],
   "source": [
    "def get_genre(x):\n",
    "  x = ast.literal_eval(x)\n",
    "  res = []\n",
    "  for item in x:\n",
    "    res.append(item['name'])\n",
    "  return ','.join(res)"
   ]
  },
  {
   "cell_type": "code",
   "execution_count": 186,
   "metadata": {},
   "outputs": [],
   "source": [
    "movies['genres'] = movies['genres'].apply(get_genre)"
   ]
  },
  {
   "cell_type": "code",
   "execution_count": 187,
   "metadata": {},
   "outputs": [
    {
     "data": {
      "text/html": [
       "<div>\n",
       "<style scoped>\n",
       "    .dataframe tbody tr th:only-of-type {\n",
       "        vertical-align: middle;\n",
       "    }\n",
       "\n",
       "    .dataframe tbody tr th {\n",
       "        vertical-align: top;\n",
       "    }\n",
       "\n",
       "    .dataframe thead th {\n",
       "        text-align: right;\n",
       "    }\n",
       "</style>\n",
       "<table border=\"1\" class=\"dataframe\">\n",
       "  <thead>\n",
       "    <tr style=\"text-align: right;\">\n",
       "      <th></th>\n",
       "      <th>id</th>\n",
       "      <th>title</th>\n",
       "      <th>genres</th>\n",
       "      <th>status</th>\n",
       "      <th>overview</th>\n",
       "      <th>popularity</th>\n",
       "      <th>original_language</th>\n",
       "      <th>production_companies</th>\n",
       "      <th>production_countries</th>\n",
       "      <th>vote_average</th>\n",
       "      <th>vote_count</th>\n",
       "    </tr>\n",
       "  </thead>\n",
       "  <tbody>\n",
       "    <tr>\n",
       "      <th>22364</th>\n",
       "      <td>199782</td>\n",
       "      <td>Springsteen &amp; I</td>\n",
       "      <td>Documentary,Music</td>\n",
       "      <td>Released</td>\n",
       "      <td>For 40 years Bruce Springsteen has influenced ...</td>\n",
       "      <td>1.5699</td>\n",
       "      <td>en</td>\n",
       "      <td>[{'name': 'Scott Free Productions', 'id': 1645...</td>\n",
       "      <td>[{'iso_3166_1': 'GB', 'name': 'United Kingdom'}]</td>\n",
       "      <td>7.5</td>\n",
       "      <td>11.0</td>\n",
       "    </tr>\n",
       "  </tbody>\n",
       "</table>\n",
       "</div>"
      ],
      "text/plain": [
       "           id            title             genres    status  \\\n",
       "22364  199782  Springsteen & I  Documentary,Music  Released   \n",
       "\n",
       "                                                overview popularity  \\\n",
       "22364  For 40 years Bruce Springsteen has influenced ...     1.5699   \n",
       "\n",
       "      original_language                               production_companies  \\\n",
       "22364                en  [{'name': 'Scott Free Productions', 'id': 1645...   \n",
       "\n",
       "                                   production_countries  vote_average  \\\n",
       "22364  [{'iso_3166_1': 'GB', 'name': 'United Kingdom'}]           7.5   \n",
       "\n",
       "       vote_count  \n",
       "22364        11.0  "
      ]
     },
     "execution_count": 187,
     "metadata": {},
     "output_type": "execute_result"
    }
   ],
   "source": [
    "movies.loc[movies['id'] == 199782]"
   ]
  },
  {
   "cell_type": "code",
   "execution_count": 183,
   "metadata": {},
   "outputs": [],
   "source": [
    "movies.drop(index=19730, inplace=True)"
   ]
  },
  {
   "cell_type": "code",
   "execution_count": 188,
   "metadata": {},
   "outputs": [
    {
     "data": {
      "text/html": [
       "<div>\n",
       "<style scoped>\n",
       "    .dataframe tbody tr th:only-of-type {\n",
       "        vertical-align: middle;\n",
       "    }\n",
       "\n",
       "    .dataframe tbody tr th {\n",
       "        vertical-align: top;\n",
       "    }\n",
       "\n",
       "    .dataframe thead th {\n",
       "        text-align: right;\n",
       "    }\n",
       "</style>\n",
       "<table border=\"1\" class=\"dataframe\">\n",
       "  <thead>\n",
       "    <tr style=\"text-align: right;\">\n",
       "      <th></th>\n",
       "      <th>id</th>\n",
       "      <th>title</th>\n",
       "      <th>genres</th>\n",
       "      <th>status</th>\n",
       "      <th>overview</th>\n",
       "      <th>popularity</th>\n",
       "      <th>original_language</th>\n",
       "      <th>production_companies</th>\n",
       "      <th>production_countries</th>\n",
       "      <th>vote_average</th>\n",
       "      <th>vote_count</th>\n",
       "    </tr>\n",
       "  </thead>\n",
       "  <tbody>\n",
       "    <tr>\n",
       "      <th>0</th>\n",
       "      <td>862</td>\n",
       "      <td>Toy Story</td>\n",
       "      <td>Animation,Comedy,Family</td>\n",
       "      <td>Released</td>\n",
       "      <td>Led by Woody, Andy's toys live happily in his ...</td>\n",
       "      <td>21.946943</td>\n",
       "      <td>en</td>\n",
       "      <td>[{'name': 'Pixar Animation Studios', 'id': 3}]</td>\n",
       "      <td>[{'iso_3166_1': 'US', 'name': 'United States o...</td>\n",
       "      <td>7.7</td>\n",
       "      <td>5415.0</td>\n",
       "    </tr>\n",
       "    <tr>\n",
       "      <th>1</th>\n",
       "      <td>8844</td>\n",
       "      <td>Jumanji</td>\n",
       "      <td>Adventure,Fantasy,Family</td>\n",
       "      <td>Released</td>\n",
       "      <td>When siblings Judy and Peter discover an encha...</td>\n",
       "      <td>17.015539</td>\n",
       "      <td>en</td>\n",
       "      <td>[{'name': 'TriStar Pictures', 'id': 559}, {'na...</td>\n",
       "      <td>[{'iso_3166_1': 'US', 'name': 'United States o...</td>\n",
       "      <td>6.9</td>\n",
       "      <td>2413.0</td>\n",
       "    </tr>\n",
       "  </tbody>\n",
       "</table>\n",
       "</div>"
      ],
      "text/plain": [
       "     id      title                    genres    status  \\\n",
       "0   862  Toy Story   Animation,Comedy,Family  Released   \n",
       "1  8844    Jumanji  Adventure,Fantasy,Family  Released   \n",
       "\n",
       "                                            overview popularity  \\\n",
       "0  Led by Woody, Andy's toys live happily in his ...  21.946943   \n",
       "1  When siblings Judy and Peter discover an encha...  17.015539   \n",
       "\n",
       "  original_language                               production_companies  \\\n",
       "0                en     [{'name': 'Pixar Animation Studios', 'id': 3}]   \n",
       "1                en  [{'name': 'TriStar Pictures', 'id': 559}, {'na...   \n",
       "\n",
       "                                production_countries  vote_average  vote_count  \n",
       "0  [{'iso_3166_1': 'US', 'name': 'United States o...           7.7      5415.0  \n",
       "1  [{'iso_3166_1': 'US', 'name': 'United States o...           6.9      2413.0  "
      ]
     },
     "execution_count": 188,
     "metadata": {},
     "output_type": "execute_result"
    }
   ],
   "source": [
    "movies.head(2)"
   ]
  },
  {
   "cell_type": "code",
   "execution_count": 195,
   "metadata": {},
   "outputs": [
    {
     "name": "stdout",
     "output_type": "stream",
     "text": [
      "<class 'pandas.core.frame.DataFrame'>\n",
      "Index: 43010 entries, 0 to 45463\n",
      "Data columns (total 11 columns):\n",
      " #   Column                Non-Null Count  Dtype  \n",
      "---  ------                --------------  -----  \n",
      " 0   id                    43010 non-null  int32  \n",
      " 1   title                 43010 non-null  object \n",
      " 2   genres                43010 non-null  object \n",
      " 3   status                43010 non-null  object \n",
      " 4   overview              43010 non-null  object \n",
      " 5   popularity            43010 non-null  float64\n",
      " 6   original_language     43010 non-null  object \n",
      " 7   production_companies  43007 non-null  object \n",
      " 8   production_countries  43007 non-null  object \n",
      " 9   vote_average          43010 non-null  float64\n",
      " 10  vote_count            43010 non-null  int32  \n",
      "dtypes: float64(2), int32(2), object(7)\n",
      "memory usage: 3.6+ MB\n"
     ]
    }
   ],
   "source": [
    "movies.info()"
   ]
  },
  {
   "cell_type": "code",
   "execution_count": 190,
   "metadata": {},
   "outputs": [],
   "source": [
    "movies['vote_count'] = movies['vote_count'].astype(int)"
   ]
  },
  {
   "cell_type": "code",
   "execution_count": 194,
   "metadata": {},
   "outputs": [],
   "source": [
    "movies.loc[movies['popularity'].isna(), 'popularity'] = movies['popularity'].mean()"
   ]
  },
  {
   "cell_type": "code",
   "execution_count": 193,
   "metadata": {},
   "outputs": [],
   "source": [
    "movies['popularity'] = movies['popularity'].astype(float)"
   ]
  },
  {
   "cell_type": "code",
   "execution_count": 192,
   "metadata": {},
   "outputs": [],
   "source": [
    "movies.loc[movies['popularity'] == 'Beware Of Frost Bites', 'popularity'] = None"
   ]
  },
  {
   "cell_type": "code",
   "execution_count": 221,
   "metadata": {},
   "outputs": [
    {
     "data": {
      "text/html": [
       "<div>\n",
       "<style scoped>\n",
       "    .dataframe tbody tr th:only-of-type {\n",
       "        vertical-align: middle;\n",
       "    }\n",
       "\n",
       "    .dataframe tbody tr th {\n",
       "        vertical-align: top;\n",
       "    }\n",
       "\n",
       "    .dataframe thead th {\n",
       "        text-align: right;\n",
       "    }\n",
       "</style>\n",
       "<table border=\"1\" class=\"dataframe\">\n",
       "  <thead>\n",
       "    <tr style=\"text-align: right;\">\n",
       "      <th></th>\n",
       "      <th>id</th>\n",
       "      <th>title</th>\n",
       "      <th>genres</th>\n",
       "      <th>status</th>\n",
       "      <th>overview</th>\n",
       "      <th>popularity</th>\n",
       "      <th>original_language</th>\n",
       "      <th>production_companies</th>\n",
       "      <th>production_countries</th>\n",
       "      <th>vote_average</th>\n",
       "      <th>vote_count</th>\n",
       "    </tr>\n",
       "  </thead>\n",
       "  <tbody>\n",
       "    <tr>\n",
       "      <th>27152</th>\n",
       "      <td>297556</td>\n",
       "      <td>Justice League: Throne of Atlantis</td>\n",
       "      <td>Science Fiction,Action,Animation,Adventure</td>\n",
       "      <td>Released</td>\n",
       "      <td>After the events of Justice League: War, Ocean...</td>\n",
       "      <td>6.012379</td>\n",
       "      <td>en</td>\n",
       "      <td>[{'name': 'DC Comics', 'id': 429}, {'name': 'W...</td>\n",
       "      <td>[{'iso_3166_1': 'US', 'name': 'United States o...</td>\n",
       "      <td>6.5</td>\n",
       "      <td>222</td>\n",
       "    </tr>\n",
       "    <tr>\n",
       "      <th>14461</th>\n",
       "      <td>20764</td>\n",
       "      <td>Sleep Dealer</td>\n",
       "      <td>Drama,Science Fiction,Thriller</td>\n",
       "      <td>Released</td>\n",
       "      <td>Set in a near-future, militarized world marked...</td>\n",
       "      <td>3.750365</td>\n",
       "      <td>en</td>\n",
       "      <td>[{'name': 'Likely Story', 'id': 1785}]</td>\n",
       "      <td>[{'iso_3166_1': 'MX', 'name': 'Mexico'}, {'iso...</td>\n",
       "      <td>6.0</td>\n",
       "      <td>41</td>\n",
       "    </tr>\n",
       "    <tr>\n",
       "      <th>4389</th>\n",
       "      <td>49365</td>\n",
       "      <td>Lady in White</td>\n",
       "      <td>Horror,Thriller</td>\n",
       "      <td>Released</td>\n",
       "      <td>Locked in a school closet during Halloween 196...</td>\n",
       "      <td>1.197890</td>\n",
       "      <td>en</td>\n",
       "      <td>[{'name': 'New Sky Communications Inc.', 'id':...</td>\n",
       "      <td>[{'iso_3166_1': 'US', 'name': 'United States o...</td>\n",
       "      <td>6.3</td>\n",
       "      <td>25</td>\n",
       "    </tr>\n",
       "    <tr>\n",
       "      <th>31332</th>\n",
       "      <td>53914</td>\n",
       "      <td>The Story of Piera</td>\n",
       "      <td>Drama</td>\n",
       "      <td>Released</td>\n",
       "      <td>This sometimes confusing erotic drama about th...</td>\n",
       "      <td>1.448790</td>\n",
       "      <td>it</td>\n",
       "      <td>[{'name': 'Sara Films', 'id': 876}, {'name': '...</td>\n",
       "      <td>[{'iso_3166_1': 'IT', 'name': 'Italy'}, {'iso_...</td>\n",
       "      <td>5.5</td>\n",
       "      <td>6</td>\n",
       "    </tr>\n",
       "    <tr>\n",
       "      <th>11338</th>\n",
       "      <td>46774</td>\n",
       "      <td>Chapayev</td>\n",
       "      <td>Comedy,Drama,History,War</td>\n",
       "      <td>Released</td>\n",
       "      <td>This film is based on the book about Vasili Iv...</td>\n",
       "      <td>0.472296</td>\n",
       "      <td>ru</td>\n",
       "      <td>[{'name': 'Lenfilm Studio', 'id': 27593}]</td>\n",
       "      <td>[{'iso_3166_1': 'RU', 'name': 'Russia'}]</td>\n",
       "      <td>4.8</td>\n",
       "      <td>5</td>\n",
       "    </tr>\n",
       "  </tbody>\n",
       "</table>\n",
       "</div>"
      ],
      "text/plain": [
       "           id                               title  \\\n",
       "27152  297556  Justice League: Throne of Atlantis   \n",
       "14461   20764                        Sleep Dealer   \n",
       "4389    49365                       Lady in White   \n",
       "31332   53914                  The Story of Piera   \n",
       "11338   46774                            Chapayev   \n",
       "\n",
       "                                           genres    status  \\\n",
       "27152  Science Fiction,Action,Animation,Adventure  Released   \n",
       "14461              Drama,Science Fiction,Thriller  Released   \n",
       "4389                              Horror,Thriller  Released   \n",
       "31332                                       Drama  Released   \n",
       "11338                    Comedy,Drama,History,War  Released   \n",
       "\n",
       "                                                overview  popularity  \\\n",
       "27152  After the events of Justice League: War, Ocean...    6.012379   \n",
       "14461  Set in a near-future, militarized world marked...    3.750365   \n",
       "4389   Locked in a school closet during Halloween 196...    1.197890   \n",
       "31332  This sometimes confusing erotic drama about th...    1.448790   \n",
       "11338  This film is based on the book about Vasili Iv...    0.472296   \n",
       "\n",
       "      original_language                               production_companies  \\\n",
       "27152                en  [{'name': 'DC Comics', 'id': 429}, {'name': 'W...   \n",
       "14461                en             [{'name': 'Likely Story', 'id': 1785}]   \n",
       "4389                 en  [{'name': 'New Sky Communications Inc.', 'id':...   \n",
       "31332                it  [{'name': 'Sara Films', 'id': 876}, {'name': '...   \n",
       "11338                ru          [{'name': 'Lenfilm Studio', 'id': 27593}]   \n",
       "\n",
       "                                    production_countries  vote_average  \\\n",
       "27152  [{'iso_3166_1': 'US', 'name': 'United States o...           6.5   \n",
       "14461  [{'iso_3166_1': 'MX', 'name': 'Mexico'}, {'iso...           6.0   \n",
       "4389   [{'iso_3166_1': 'US', 'name': 'United States o...           6.3   \n",
       "31332  [{'iso_3166_1': 'IT', 'name': 'Italy'}, {'iso_...           5.5   \n",
       "11338           [{'iso_3166_1': 'RU', 'name': 'Russia'}]           4.8   \n",
       "\n",
       "       vote_count  \n",
       "27152         222  \n",
       "14461          41  \n",
       "4389           25  \n",
       "31332           6  \n",
       "11338           5  "
      ]
     },
     "execution_count": 221,
     "metadata": {},
     "output_type": "execute_result"
    }
   ],
   "source": [
    "movies.sample(5)"
   ]
  },
  {
   "cell_type": "code",
   "execution_count": 222,
   "metadata": {},
   "outputs": [],
   "source": [
    "movies = movies[['id', 'title','genres', 'status', 'overview', 'popularity', 'original_language', 'vote_average', 'vote_count']]"
   ]
  },
  {
   "cell_type": "code",
   "execution_count": 234,
   "metadata": {},
   "outputs": [
    {
     "data": {
      "text/html": [
       "<div>\n",
       "<style scoped>\n",
       "    .dataframe tbody tr th:only-of-type {\n",
       "        vertical-align: middle;\n",
       "    }\n",
       "\n",
       "    .dataframe tbody tr th {\n",
       "        vertical-align: top;\n",
       "    }\n",
       "\n",
       "    .dataframe thead th {\n",
       "        text-align: right;\n",
       "    }\n",
       "</style>\n",
       "<table border=\"1\" class=\"dataframe\">\n",
       "  <thead>\n",
       "    <tr style=\"text-align: right;\">\n",
       "      <th></th>\n",
       "      <th>id</th>\n",
       "      <th>title</th>\n",
       "      <th>genres</th>\n",
       "      <th>status</th>\n",
       "      <th>overview</th>\n",
       "      <th>popularity</th>\n",
       "      <th>original_language</th>\n",
       "      <th>vote_average</th>\n",
       "      <th>vote_count</th>\n",
       "    </tr>\n",
       "  </thead>\n",
       "  <tbody>\n",
       "    <tr>\n",
       "      <th>23111</th>\n",
       "      <td>145220</td>\n",
       "      <td>Muppets Most Wanted</td>\n",
       "      <td>Comedy,Adventure,Crime,Family</td>\n",
       "      <td>Released</td>\n",
       "      <td>While on a grand world tour, The Muppets find ...</td>\n",
       "      <td>7.244956</td>\n",
       "      <td>en</td>\n",
       "      <td>6.2</td>\n",
       "      <td>318</td>\n",
       "    </tr>\n",
       "    <tr>\n",
       "      <th>11199</th>\n",
       "      <td>26502</td>\n",
       "      <td>Seven Men from Now</td>\n",
       "      <td>Action,Adventure,Drama,Western</td>\n",
       "      <td>Released</td>\n",
       "      <td>Aging lawman Ben Stride burns a trail of murde...</td>\n",
       "      <td>2.511267</td>\n",
       "      <td>en</td>\n",
       "      <td>6.8</td>\n",
       "      <td>20</td>\n",
       "    </tr>\n",
       "    <tr>\n",
       "      <th>10351</th>\n",
       "      <td>16374</td>\n",
       "      <td>Sometimes in April</td>\n",
       "      <td>Drama,History,War</td>\n",
       "      <td>Released</td>\n",
       "      <td>Debra Winger, Oris Erhuero and Idris Elba star...</td>\n",
       "      <td>3.687491</td>\n",
       "      <td>en</td>\n",
       "      <td>7.2</td>\n",
       "      <td>16</td>\n",
       "    </tr>\n",
       "    <tr>\n",
       "      <th>7730</th>\n",
       "      <td>9890</td>\n",
       "      <td>The Stepford Wives</td>\n",
       "      <td>Action,Comedy,Science Fiction</td>\n",
       "      <td>Released</td>\n",
       "      <td>What does it take to become a Stepford wife, a...</td>\n",
       "      <td>10.815520</td>\n",
       "      <td>en</td>\n",
       "      <td>5.4</td>\n",
       "      <td>339</td>\n",
       "    </tr>\n",
       "    <tr>\n",
       "      <th>10506</th>\n",
       "      <td>23196</td>\n",
       "      <td>South Central</td>\n",
       "      <td>Crime,Drama</td>\n",
       "      <td>Released</td>\n",
       "      <td>A man is put to prison for 10 years. Coming ou...</td>\n",
       "      <td>2.999450</td>\n",
       "      <td>en</td>\n",
       "      <td>6.6</td>\n",
       "      <td>20</td>\n",
       "    </tr>\n",
       "  </tbody>\n",
       "</table>\n",
       "</div>"
      ],
      "text/plain": [
       "           id                title                          genres    status  \\\n",
       "23111  145220  Muppets Most Wanted   Comedy,Adventure,Crime,Family  Released   \n",
       "11199   26502   Seven Men from Now  Action,Adventure,Drama,Western  Released   \n",
       "10351   16374   Sometimes in April               Drama,History,War  Released   \n",
       "7730     9890   The Stepford Wives   Action,Comedy,Science Fiction  Released   \n",
       "10506   23196        South Central                     Crime,Drama  Released   \n",
       "\n",
       "                                                overview  popularity  \\\n",
       "23111  While on a grand world tour, The Muppets find ...    7.244956   \n",
       "11199  Aging lawman Ben Stride burns a trail of murde...    2.511267   \n",
       "10351  Debra Winger, Oris Erhuero and Idris Elba star...    3.687491   \n",
       "7730   What does it take to become a Stepford wife, a...   10.815520   \n",
       "10506  A man is put to prison for 10 years. Coming ou...    2.999450   \n",
       "\n",
       "      original_language  vote_average  vote_count  \n",
       "23111                en           6.2         318  \n",
       "11199                en           6.8          20  \n",
       "10351                en           7.2          16  \n",
       "7730                 en           5.4         339  \n",
       "10506                en           6.6          20  "
      ]
     },
     "execution_count": 234,
     "metadata": {},
     "output_type": "execute_result"
    }
   ],
   "source": [
    "movies.sample(5)"
   ]
  },
  {
   "cell_type": "code",
   "execution_count": 241,
   "metadata": {},
   "outputs": [],
   "source": [
    "movies.drop_duplicates(keep='first', inplace=True)"
   ]
  },
  {
   "cell_type": "code",
   "execution_count": 242,
   "metadata": {},
   "outputs": [],
   "source": [
    "movies.to_csv('data\\\\movies_dataset.csv', index=False)"
   ]
  },
  {
   "cell_type": "code",
   "execution_count": 243,
   "metadata": {},
   "outputs": [
    {
     "data": {
      "text/plain": [
       "id                   0\n",
       "title                0\n",
       "genres               0\n",
       "status               0\n",
       "overview             0\n",
       "popularity           0\n",
       "original_language    0\n",
       "vote_average         0\n",
       "vote_count           0\n",
       "dtype: int64"
      ]
     },
     "execution_count": 243,
     "metadata": {},
     "output_type": "execute_result"
    }
   ],
   "source": [
    "movies.isna().sum()\n"
   ]
  },
  {
   "cell_type": "code",
   "execution_count": 244,
   "metadata": {},
   "outputs": [
    {
     "data": {
      "text/plain": [
       "0"
      ]
     },
     "execution_count": 244,
     "metadata": {},
     "output_type": "execute_result"
    }
   ],
   "source": [
    "movies.duplicated().sum()"
   ]
  },
  {
   "cell_type": "code",
   "execution_count": 245,
   "metadata": {},
   "outputs": [],
   "source": [
    "df = pd.read_csv('data\\\\ratings.csv')"
   ]
  },
  {
   "cell_type": "code",
   "execution_count": 246,
   "metadata": {},
   "outputs": [
    {
     "data": {
      "text/plain": [
       "0"
      ]
     },
     "execution_count": 246,
     "metadata": {},
     "output_type": "execute_result"
    }
   ],
   "source": [
    "df.duplicated().sum()"
   ]
  },
  {
   "cell_type": "code",
   "execution_count": 247,
   "metadata": {},
   "outputs": [
    {
     "data": {
      "text/plain": [
       "userId     0\n",
       "movieId    0\n",
       "rating     0\n",
       "dtype: int64"
      ]
     },
     "execution_count": 247,
     "metadata": {},
     "output_type": "execute_result"
    }
   ],
   "source": [
    "df.isna().sum()"
   ]
  },
  {
   "cell_type": "code",
   "execution_count": 249,
   "metadata": {},
   "outputs": [
    {
     "data": {
      "text/plain": [
       "array([   110,    147,    858, ..., 173161, 174743, 175687], dtype=int64)"
      ]
     },
     "execution_count": 249,
     "metadata": {},
     "output_type": "execute_result"
    }
   ],
   "source": [
    "df.movieId.unique()"
   ]
  },
  {
   "cell_type": "code",
   "execution_count": null,
   "metadata": {},
   "outputs": [],
   "source": []
  }
 ],
 "metadata": {
  "kernelspec": {
   "display_name": "base",
   "language": "python",
   "name": "python3"
  },
  "language_info": {
   "codemirror_mode": {
    "name": "ipython",
    "version": 3
   },
   "file_extension": ".py",
   "mimetype": "text/x-python",
   "name": "python",
   "nbconvert_exporter": "python",
   "pygments_lexer": "ipython3",
   "version": "3.11.5"
  }
 },
 "nbformat": 4,
 "nbformat_minor": 2
}
